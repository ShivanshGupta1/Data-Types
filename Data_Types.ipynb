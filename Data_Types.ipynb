{
  "nbformat": 4,
  "nbformat_minor": 0,
  "metadata": {
    "colab": {
      "name": "Data Types.ipynb",
      "provenance": [],
      "authorship_tag": "ABX9TyP20+wi4VnSwkZ8Ywyx6WvM",
      "include_colab_link": true
    },
    "kernelspec": {
      "name": "python3",
      "display_name": "Python 3"
    }
  },
  "cells": [
    {
      "cell_type": "markdown",
      "metadata": {
        "id": "view-in-github",
        "colab_type": "text"
      },
      "source": [
        "<a href=\"https://colab.research.google.com/github/ShivanshGupta1/Data-Types/blob/main/Data_Types.ipynb\" target=\"_parent\"><img src=\"https://colab.research.google.com/assets/colab-badge.svg\" alt=\"Open In Colab\"/></a>"
      ]
    },
    {
      "cell_type": "code",
      "metadata": {
        "colab": {
          "base_uri": "https://localhost:8080/"
        },
        "id": "nd663b2Bsz9F",
        "outputId": "d311487d-3d46-45e9-ed40-ff6ab7b23d60"
      },
      "source": [
        "#This is the basic of the four main data types in python\n",
        "first_name = 'Shivansh'\n",
        "isCoder = True\n",
        "phone_no = 9910239384\n",
        "age = 12.45 \n",
        "print(type(first_name), type(isCoder), type(phone_no) , type(age), sep=',\\n')"
      ],
      "execution_count": 1,
      "outputs": [
        {
          "output_type": "stream",
          "text": [
            "<class 'str'>,\n",
            "<class 'bool'>,\n",
            "<class 'int'>,\n",
            "<class 'float'>\n"
          ],
          "name": "stdout"
        }
      ]
    }
  ]
}